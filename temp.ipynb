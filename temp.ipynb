{
 "cells": [
  {
   "cell_type": "code",
   "execution_count": 115,
   "metadata": {},
   "outputs": [
    {
     "name": "stdout",
     "output_type": "stream",
     "text": [
      "The autoreload extension is already loaded. To reload it, use:\n",
      "  %reload_ext autoreload\n"
     ]
    }
   ],
   "source": [
    "%load_ext autoreload\n",
    "%autoreload 2\n",
    "\n",
    "import sys\n",
    "sys.path.append('.')\n",
    "import rr_parser\n",
    "import pokebase as pb\n",
    "from rr_parser.enums import GameType"
   ]
  },
  {
   "cell_type": "code",
   "execution_count": 146,
   "metadata": {},
   "outputs": [],
   "source": [
    "with open('C:\\\\Users\\\\Jackson Paull\\\\Dropbox\\\\Radical Red\\\\RadRedNUZLOCKE.sav', \"rb\") as f:\n",
    "    b = f.read()\n",
    "    \n",
    "g = rr_parser.games.RadicalRed(b)\n",
    "gs = g.game_save\n",
    "box_data = b''.join([gs.sections[i]._data for i in range(5, 14)])\n",
    "pc = rr_parser.sections.PC(GameType.RR, gs)"
   ]
  },
  {
   "cell_type": "code",
   "execution_count": 122,
   "metadata": {},
   "outputs": [],
   "source": [
    "from rr_parser.functions import pkm_set_to_text"
   ]
  },
  {
   "cell_type": "code",
   "execution_count": 152,
   "metadata": {},
   "outputs": [
    {
     "name": "stdout",
     "output_type": "stream",
     "text": [
      "Weedle\n",
      "Level: 15\n",
      "Relaxed Nature\n",
      "Ability: Shield Dust\n",
      "EVs: 0 HP / 0 Atk / 0 Def / 2 Spe / 0 SpA / 0 SpD\n",
      "IVs: 29 HP / 5 Atk / 3 Def / 8 Spe / 1 SpA / 19 SpD\n",
      "- String Shot\n",
      "- Poison Sting\n",
      "\n"
     ]
    }
   ],
   "source": [
    "print(pkm_set_to_text(pc.boxes[0].pokemon[2], level=15))"
   ]
  },
  {
   "cell_type": "code",
   "execution_count": 132,
   "metadata": {},
   "outputs": [],
   "source": [
    "i = 4 # Box slot to look at\n",
    "pkm_data = pc._data[4+58*i:4+58*(i+1)]\n",
    "personality_value = pkm_data[:0x4]\n",
    "ot_id = pkm_data[0x4:0x8]\n",
    "\n",
    "nickname = pkm_data[0x8:0x12]\n",
    "nickname = rr_parser.charsets.Gen3Charset.bin2char3(nickname)\n",
    "\n",
    "lang = pkm_data[0x12]\n",
    "misc_flags = pkm_data[0x13]\n",
    "ot_name = pkm_data[0x14:0x1B]\n",
    "ot_name = rr_parser.charsets.Gen3Charset.bin2char3(ot_name)\n",
    "markings = pkm_data[0x1B]\n",
    "substruct_data = pkm_data[0x1C:]\n",
    "\n",
    "# Growth Substruct\n",
    "species = int.from_bytes(substruct_data[:2], 'little')\n",
    "item = int.from_bytes(substruct_data[2:4], 'little')\n",
    "exp = int.from_bytes(substruct_data[4:8], 'little')\n",
    "pp_bonus_data = substruct_data[8]\n",
    "friendship = substruct_data[9]\n",
    "\n",
    "# Attack Substruct\n",
    "move_data = int.from_bytes(substruct_data[11:16], 'little')\n",
    "moves = [\n",
    "    move_data & 0x3FF,\n",
    "    move_data >> 10 & 0x3FF,\n",
    "    move_data >> 20 & 0x3FF,\n",
    "    move_data >> 30 & 0x3FF,\n",
    "]\n",
    "\n",
    "# EVs\n",
    "EVs = [\n",
    "    substruct_data[16],\n",
    "    substruct_data[17],\n",
    "    substruct_data[18],\n",
    "    substruct_data[19],\n",
    "    substruct_data[20],\n",
    "    substruct_data[21],\n",
    "]\n",
    "EVs_dict = dict(zip(\n",
    "    ['HP', 'Atk', 'Def', 'Spe', 'SpA', 'SpD'], EVs\n",
    "))\n",
    "\n",
    "# Misc Substruct\n"
   ]
  },
  {
   "cell_type": "code",
   "execution_count": null,
   "metadata": {},
   "outputs": [],
   "source": []
  },
  {
   "cell_type": "code",
   "execution_count": 135,
   "metadata": {},
   "outputs": [],
   "source": [
    "from rr_parser.pkms import EVs"
   ]
  },
  {
   "cell_type": "code",
   "execution_count": 134,
   "metadata": {},
   "outputs": [
    {
     "data": {
      "text/plain": [
       "b'\\x10\\x00\\x00\\x00\\xfb\\x07\\x00\\x00\\x00m\\x03\\x10\\x90 FJ\\x06\\x02\\x01\\x01\\x03\\x00\\x00e\\x03\\x02\\xf7\\xee_9'"
      ]
     },
     "execution_count": 134,
     "metadata": {},
     "output_type": "execute_result"
    }
   ],
   "source": [
    "substruct_data"
   ]
  },
  {
   "cell_type": "code",
   "execution_count": 136,
   "metadata": {},
   "outputs": [
    {
     "data": {
      "text/plain": [
       "<rr_parser.pkms.EVs at 0x2112b7412b0>"
      ]
     },
     "execution_count": 136,
     "metadata": {},
     "output_type": "execute_result"
    }
   ],
   "source": [
    "EVs(substruct_data[16:22])"
   ]
  },
  {
   "cell_type": "markdown",
   "metadata": {},
   "source": [
    "// Poison Sting (0x028), String Shot (0x051), None, None\n",
    "0000 1110  //  0E <-- Must be related to the first 2 bits of all moves, stays constant between all mons with moves with form 0x0??, but changes when pidgey knows feather dance...\n",
    "0010 1000  //  28 <--- Last 8 bits of first move ID\n",
    "0100 01/ 00  //  44 <-- xor of 5 and 1, then and of 5 and 1\n",
    "0000 / 0001  //  01\n",
    "0000 0000  //  00\n",
    "0000 0000  //  00\n",
    "\n",
    "\n",
    "// String Shot, Poison Sting, None, None\n",
    "0000 1110  // 0E\n",
    "0101 0001  // 51  <--- Last 8 bits of first move ID\n",
    "10 1000/ 00  // A0 <-- xor of 2/8, then and of 2/8\n",
    "0000 / 00 00  // 00\n",
    "0000 0000  // 00\n",
    "0000 0000  // 00\n",
    "\n",
    "// Splash (0x096), None, None, None\n",
    "0000 1110  // 0E\n",
    "1001 0110  // 96\n",
    "0000 0000  // 00\n",
    "0000 0000  // 00\n",
    "0000 0000  // 00\n",
    "0000 0000  // 00\n",
    "\n",
    "// Growl (0x2D), Tackle (0x21), Ember (0x34), Focus Energy (0x74)\n",
    "0000 1110 // 0E\n",
    "0010 1101 // 2D \n",
    "10 00 01 /00 // 84 <-- xor then and encryption fails here...\n",
    "0100 / 00 00 // 40\n",
    "0000 0011 // 03\n",
    "0001 1101 // 1D\n",
    "\n",
    "// Take Down (0x24), Feather Dance (0x129), Gust (0x10), Quick Attack (0x62)\n",
    "0000 0011 // 03\n",
    "0010 0100 // 24\n",
    "1010 01/ 00 // A4\n",
    "0000/  0100 // 04\n",
    "10/ 00 0001 // 81\n",
    "0001 1000 // 18\n",
    "\n",
    "// Feather Dance, Take Down, Gust, Quick Attack\n",
    "0000 0011 // 03\n",
    "0010 1001 // 29\n",
    "1001 0001 // 91\n",
    "0000 0000 // 00\n",
    "1000 0001 // 81\n",
    "0001 1000 // 18\n",
    "\n",
    "// Gust, Take Down, Feather Dance, Quick Attack\n",
    "0000 0011 // 03\n",
    "0001 0000 // 10\n",
    "1001 0000 // 90\n",
    "1001 0000 // 90\n",
    "1001 0010 // 92\n",
    "0001 1000 // 18\n",
    "\n",
    "// Gust, Take Down, Quick Attack, Feather Dance\n",
    "0000 0011 // 03\n",
    "1000 0000 // 10\n",
    "1001 0000 // 90\n",
    "0010 0000 // 20\n",
    "0100 0110 // 46\n",
    "0100 1010 // 4A\n"
   ]
  },
  {
   "cell_type": "code",
   "execution_count": 102,
   "metadata": {},
   "outputs": [
    {
     "data": {
      "text/plain": [
       "[16, 36, 98, 297]"
      ]
     },
     "execution_count": 102,
     "metadata": {},
     "output_type": "execute_result"
    }
   ],
   "source": [
    "moves"
   ]
  },
  {
   "cell_type": "code",
   "execution_count": null,
   "metadata": {},
   "outputs": [],
   "source": []
  },
  {
   "cell_type": "code",
   "execution_count": null,
   "metadata": {},
   "outputs": [],
   "source": []
  }
 ],
 "metadata": {
  "kernelspec": {
   "display_name": "radical_red",
   "language": "python",
   "name": "python3"
  },
  "language_info": {
   "codemirror_mode": {
    "name": "ipython",
    "version": 3
   },
   "file_extension": ".py",
   "mimetype": "text/x-python",
   "name": "python",
   "nbconvert_exporter": "python",
   "pygments_lexer": "ipython3",
   "version": "3.13.0"
  }
 },
 "nbformat": 4,
 "nbformat_minor": 2
}
